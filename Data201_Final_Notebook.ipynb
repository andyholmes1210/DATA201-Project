{
 "cells": [
  {
   "cell_type": "markdown",
   "id": "e6401bd4-c174-410b-b12c-da5f9d6ef0d2",
   "metadata": {},
   "source": [
    "# Data201 Group Project\n",
    "\n",
    "This project looks at the impact of covid-19 on New Zealand by looking at correlations between covid case numbers and various\n",
    "other societal factors that have been impacted."
   ]
  },
  {
   "cell_type": "markdown",
   "id": "e23ed80a-1921-4a21-9e34-e05148e8ba40",
   "metadata": {},
   "source": [
    "Installing libraries used throughout the project"
   ]
  },
  {
   "cell_type": "code",
   "execution_count": 1,
   "id": "7fe0cefb-4b59-4984-bb11-7c5c0988a380",
   "metadata": {},
   "outputs": [
    {
     "name": "stderr",
     "output_type": "stream",
     "text": [
      "── \u001b[1mAttaching packages\u001b[22m ─────────────────────────────────────── tidyverse 1.3.1 ──\n",
      "\n",
      "\u001b[32m✔\u001b[39m \u001b[34mggplot2\u001b[39m 3.3.5          \u001b[32m✔\u001b[39m \u001b[34mpurrr  \u001b[39m 0.3.4     \n",
      "\u001b[32m✔\u001b[39m \u001b[34mtibble \u001b[39m 3.1.5          \u001b[32m✔\u001b[39m \u001b[34mdplyr  \u001b[39m 1.0.7.\u001b[31m9000\u001b[39m\n",
      "\u001b[32m✔\u001b[39m \u001b[34mtidyr  \u001b[39m 1.1.3          \u001b[32m✔\u001b[39m \u001b[34mstringr\u001b[39m 1.4.0     \n",
      "\u001b[32m✔\u001b[39m \u001b[34mreadr  \u001b[39m 2.0.1          \u001b[32m✔\u001b[39m \u001b[34mforcats\u001b[39m 0.5.1     \n",
      "\n",
      "── \u001b[1mConflicts\u001b[22m ────────────────────────────────────────── tidyverse_conflicts() ──\n",
      "\u001b[31m✖\u001b[39m \u001b[34mdplyr\u001b[39m::\u001b[32mfilter()\u001b[39m masks \u001b[34mstats\u001b[39m::filter()\n",
      "\u001b[31m✖\u001b[39m \u001b[34mdplyr\u001b[39m::\u001b[32mlag()\u001b[39m    masks \u001b[34mstats\u001b[39m::lag()\n",
      "\n",
      "\n",
      "Attaching package: ‘rvest’\n",
      "\n",
      "\n",
      "The following object is masked from ‘package:readr’:\n",
      "\n",
      "    guess_encoding\n",
      "\n",
      "\n"
     ]
    }
   ],
   "source": [
    "library(tidyverse) \n",
    "library(ggplot2) # For plotting data\n",
    "library(stringr)\n",
    "library(visdat)\n",
    "library(readxl)\n",
    "\n",
    "\n",
    "library(rvest) # For webscraping\n",
    "library(purrr) # For dataframe mapping\n",
    "library(polite) # polite is the \"polite\" version of rvest\n",
    "library(xml2) # makes it easier to work with HTML and XML from R"
   ]
  },
  {
   "cell_type": "markdown",
   "id": "c00f61cd-6a23-4c62-abd9-e39b9590be61",
   "metadata": {},
   "source": [
    "# Downloading and Setting up data\n",
    "This first section of the notebook downloads and does some basic wrangling of all of the data used throughout the project"
   ]
  },
  {
   "cell_type": "markdown",
   "id": "8dfc0fd1-486a-471e-acb4-4e76ad678fbf",
   "metadata": {},
   "source": [
    "# Getting the covid case data setup"
   ]
  },
  {
   "cell_type": "markdown",
   "id": "65ac23de-8387-4833-adac-f560add6d465",
   "metadata": {},
   "source": [
    "The global covid case data we are using comes from the WHO, whose global covid data csv we have uploaded to our github.\n",
    "This section simply retrieves the data from our github, and does some simple wrangling to extract the data that is relevant for our other datasets"
   ]
  },
  {
   "cell_type": "code",
   "execution_count": 2,
   "id": "da505ef3-f7c5-485f-b887-90f8f1120604",
   "metadata": {},
   "outputs": [
    {
     "name": "stderr",
     "output_type": "stream",
     "text": [
      "\u001b[1m\u001b[1mRows: \u001b[1m\u001b[22m\u001b[34m\u001b[34m155709\u001b[34m\u001b[39m \u001b[1m\u001b[1mColumns: \u001b[1m\u001b[22m\u001b[34m\u001b[34m8\u001b[34m\u001b[39m\n",
      "\u001b[36m──\u001b[39m \u001b[1m\u001b[1mColumn specification\u001b[1m\u001b[22m \u001b[36m────────────────────────────────────────────────────────\u001b[39m\n",
      "\u001b[1mDelimiter:\u001b[22m \",\"\n",
      "\u001b[31mchr\u001b[39m  (3): Country_code, Country, WHO_region\n",
      "\u001b[32mdbl\u001b[39m  (4): New_cases, Cumulative_cases, New_deaths, Cumulative_deaths\n",
      "\u001b[34mdate\u001b[39m (1): Date_reported\n",
      "\n",
      "\u001b[36mℹ\u001b[39m Use \u001b[30m\u001b[47m\u001b[30m\u001b[47m`spec()`\u001b[47m\u001b[30m\u001b[49m\u001b[39m to retrieve the full column specification for this data.\n",
      "\u001b[36mℹ\u001b[39m Specify the column types or set \u001b[30m\u001b[47m\u001b[30m\u001b[47m`show_col_types = FALSE`\u001b[47m\u001b[30m\u001b[49m\u001b[39m to quiet this message.\n"
     ]
    }
   ],
   "source": [
    "# Reading data into tibble\n",
    "case_data <- read_csv('https://raw.githubusercontent.com/andyholmes1210/DATA201-Project/main/WHO-COVID-19-global-data.csv')\n",
    "\n",
    "# Selecting only the case data relevant to New Zealand, as well as only the date and new case count\n",
    "case_data <- case_data %>%\n",
    "    filter(Country == \"New Zealand\") %>%\n",
    "    select(Date_reported, New_cases)"
   ]
  },
  {
   "cell_type": "markdown",
   "id": "427ca38f-870c-445a-b463-365b4a5972f6",
   "metadata": {},
   "source": [
    "# Getting the covid vaccination data setup"
   ]
  },
  {
   "cell_type": "markdown",
   "id": "a079bd1d-ce5f-44ce-a54f-0a38efe17551",
   "metadata": {},
   "source": [
    "The covid vaccination data comes directly from the NZ ministry of health github.\n",
    "This section downloads the nz ministry of health vaccination doses data per dhb group"
   ]
  },
  {
   "cell_type": "code",
   "execution_count": 3,
   "id": "fbc2c5c6-0562-4e6f-b19f-2d2610e37cc9",
   "metadata": {},
   "outputs": [
    {
     "name": "stderr",
     "output_type": "stream",
     "text": [
      "\u001b[1m\u001b[1mRows: \u001b[1m\u001b[22m\u001b[34m\u001b[34m3653\u001b[34m\u001b[39m \u001b[1m\u001b[1mColumns: \u001b[1m\u001b[22m\u001b[34m\u001b[34m5\u001b[34m\u001b[39m\n",
      "\u001b[36m──\u001b[39m \u001b[1m\u001b[1mColumn specification\u001b[1m\u001b[22m \u001b[36m────────────────────────────────────────────────────────\u001b[39m\n",
      "\u001b[1mDelimiter:\u001b[22m \",\"\n",
      "\u001b[31mchr\u001b[39m  (2): Group, DHB of service\n",
      "\u001b[32mdbl\u001b[39m  (2): Dose number, # doses administered\n",
      "\u001b[34mdate\u001b[39m (1): Week ending\n",
      "\n",
      "\u001b[36mℹ\u001b[39m Use \u001b[30m\u001b[47m\u001b[30m\u001b[47m`spec()`\u001b[47m\u001b[30m\u001b[49m\u001b[39m to retrieve the full column specification for this data.\n",
      "\u001b[36mℹ\u001b[39m Specify the column types or set \u001b[30m\u001b[47m\u001b[30m\u001b[47m`show_col_types = FALSE`\u001b[47m\u001b[30m\u001b[49m\u001b[39m to quiet this message.\n"
     ]
    }
   ],
   "source": [
    "vaccination_data_raw <- 'https://raw.githubusercontent.com/minhealthnz/nz-covid-data/main/vaccine-data/latest/doses_group_and_dhb_service.csv' %>% \n",
    "    read_csv()"
   ]
  },
  {
   "cell_type": "markdown",
   "id": "7fe1a979-c0e6-481b-ac25-d0c9c97d8322",
   "metadata": {},
   "source": [
    "# Getting the regional population data setup\n",
    "This whole section scrapes the NZ regional DHB population data from the ministry of health website.\n",
    "This combines the Auckland, Counties Manakau and Waitemata data into one region (Auckland), as well as the Capital & Coast and Hutt valley regions into one.\n",
    "Source: https://www.health.govt.nz/new-zealand-health-system/my-dhb"
   ]
  },
  {
   "cell_type": "code",
   "execution_count": 4,
   "id": "fffa9b3f-6146-4030-a554-0a16e2851012",
   "metadata": {},
   "outputs": [],
   "source": [
    "# Main url that the population data is scraped from\n",
    "base_url <- 'https://www.health.govt.nz'\n",
    "main_location <- '/new-zealand-health-system/my-dhb'\n",
    "\n",
    "main_page <- read_html(paste(base_url, main_location, sep=\"\"))\n",
    "\n",
    "# Getting the individual page elements\n",
    "DHBs <- main_page %>%\n",
    "    html_elements('#block-system-main > div > div > div.panel-panel.left.col-xs-12.col-md-3.col-lg-3 > div > div > div > ul') %>%\n",
    "    html_children()\n",
    "\n",
    "\n",
    "# Getting the names of the DHBS from each of the elements\n",
    "DHB_names <- DHBs %>%\n",
    "    html_text() %>%\n",
    "    str_replace_all(' DHB', '')\n",
    "\n",
    "\n",
    "# Getting the DHB specific page links\n",
    "DHB_sub_pages <- DHBs %>%\n",
    "    html_children() %>%\n",
    "    html_attr('href') %>%\n",
    "    paste(base_url, ., sep=\"\") %>%\n",
    "    str_trim() %>%\n",
    "    str_squish()\n",
    "\n",
    "# Combining the Region and Link info into a dataframe\n",
    "population_info <- tibble(Region = DHB_names,\n",
    "                          Link = DHB_sub_pages)"
   ]
  },
  {
   "cell_type": "code",
   "execution_count": 5,
   "id": "e68f247a-856e-486c-b82f-8c9c1b589af0",
   "metadata": {},
   "outputs": [],
   "source": [
    "# This function takes a link to a specific DHB page and returns the population\n",
    "get_population <- function(link) {\n",
    "    \n",
    "    # Reading the page and getting the bulk text object (I cant just select a specific text block as the position of the information varies from page to page)\n",
    "    page <- read_html(link)\n",
    "    text <- page %>%\n",
    "        html_elements('.field-item.even') %>%\n",
    "        .[[2]] %>%\n",
    "        html_children() %>%\n",
    "        html_text()\n",
    "    \n",
    "    # Joining the list of text boxes into one large string\n",
    "    combined_text <- text %>%\n",
    "        paste(collapse = '') %>%\n",
    "        .[[1]] %>%\n",
    "        .[[1]] \n",
    "\n",
    "   # The layout on the auckaland page differs slightly, so the retrieving of the population number differs for it.\n",
    "    if(grepl('auckland', link, fixed=TRUE)) {\n",
    "        population <- combined_text %>%\n",
    "        str_split('It has a population of') %>%\n",
    "        .[[1]] %>%\n",
    "        .[[2]] %>%\n",
    "        str_split(' ') %>%\n",
    "        .[[1]] %>%\n",
    "        .[[1]] %>%\n",
    "        str_trim() %>%\n",
    "        str_split(intToUtf8(160)) %>%\n",
    "        .[[1]] %>%\n",
    "        .[[1]]\n",
    "    } else{\n",
    "        population <- combined_text %>%\n",
    "        str_split('It has a population of') %>%\n",
    "        .[[1]] %>%\n",
    "        .[[2]] %>%\n",
    "        str_split(' ') %>%\n",
    "        .[[1]] %>%\n",
    "        .[[2]]\n",
    "        \n",
    "    }\n",
    "    # Parsing the population as a number\n",
    "    population <- population %>%\n",
    "        str_replace_all(',', '') %>%\n",
    "        str_replace_all(' ', '') %>%\n",
    "        as.numeric()\n",
    "    \n",
    "    return(population)\n",
    "}"
   ]
  },
  {
   "cell_type": "code",
   "execution_count": 6,
   "id": "02b05a0f-7f15-4aeb-9ab6-2bf3a3348d16",
   "metadata": {},
   "outputs": [],
   "source": [
    "# Adding the population data into the dataframe\n",
    "population_df <- population_info %>% \n",
    "    mutate(Population = map_dbl(Link, get_population)) %>%\n",
    "    mutate(Region = str_trim(Region)) %>%\n",
    "    mutate(Region = str_trim(Region))\n"
   ]
  },
  {
   "cell_type": "code",
   "execution_count": 7,
   "id": "7c5840f3-cb3e-4b5c-b57d-6ee11a1c3030",
   "metadata": {},
   "outputs": [],
   "source": [
    "# This cell combines the Auckland, Counties Manakau and Waitemata into one large Auckland group, and combines Capital & Coast and Hutt Valley into one group.\n",
    "\n",
    "# List of the Component DHBS\n",
    "auckland_dhbs <- c('Auckland', 'Counties Manukau', 'Waitematā')\n",
    "capital_coast_hutt_dhbs <- c('Capital & Coast', 'Hutt Valley')\n",
    "\n",
    "# Getting the total population of the auckland DHBS\n",
    "auckland <- population_df %>% \n",
    "    filter(Region %in% auckland_dhbs)\n",
    "auckland_population <- sum(auckland$Population)\n",
    "\n",
    "# Getting the total population of the capital and coast and hutt valley DHBS\n",
    "capital_hutt <- population_df %>%\n",
    "    filter(Region %in% capital_coast_hutt_dhbs)\n",
    "capital_hutt_population <- sum(capital_hutt$Population)\n",
    "\n",
    "# Replacing the component entries with the new ones\n",
    "population_df <- population_df %>%\n",
    "    filter(!(Region %in% auckland_dhbs)) %>%\n",
    "    add_row(Region = 'Auckland', Link=NA, Population=auckland_population)\n",
    "\n",
    "population_df <- population_df %>%\n",
    "    filter(!(Region %in% capital_coast_hutt_dhbs)) %>%\n",
    "    add_row(Region = 'Capital & Coast and Hutt Valley', Link=NA, Population=capital_hutt_population)    \n",
    "\n",
    "population_df[population_df == \"Tairāwhiti\"] <- \"Tairawhiti\"\n",
    "\n",
    "\n",
    "# Function to fix the Hawke's Bay name\n",
    "fix_hawkes <- function(Region) {\n",
    "    result <- ifelse(grepl('Hawk', Region, fixed=TRUE), 'Hawke\\'s Bay', Region)\n",
    "    return(result)\n",
    "}\n",
    "\n",
    "# Fixing the Hawkes bay names\n",
    "population_df <- population_df %>% \n",
    "    mutate(Region = map(Region, fix_hawkes)) %>%\n",
    "    mutate(Region = as.character(Region))"
   ]
  },
  {
   "cell_type": "code",
   "execution_count": 8,
   "id": "f750e302-0a6c-4298-8c9b-1eac4a7b5ce3",
   "metadata": {},
   "outputs": [],
   "source": [
    "# Taking only the Region and Population data as the Link is not needed\n",
    "population_data <- population_df %>% \n",
    "    select(Region, Population)"
   ]
  },
  {
   "cell_type": "markdown",
   "id": "de7a6203-b455-4891-b2fe-3c887ce0fb50",
   "metadata": {},
   "source": [
    "# Getting the border crossing data setup"
   ]
  },
  {
   "cell_type": "markdown",
   "id": "1de44064-b528-4624-bb29-9dafe8ba212c",
   "metadata": {},
   "source": [
    "The border crossing data comes from the statsnz covid19 data portal. The file has been re-uploaded to our github for ease of use."
   ]
  },
  {
   "cell_type": "code",
   "execution_count": 9,
   "id": "4fdd6a2e-0202-4e3d-8dfd-1ae13406b459",
   "metadata": {},
   "outputs": [
    {
     "name": "stderr",
     "output_type": "stream",
     "text": [
      "\u001b[1m\u001b[1mRows: \u001b[1m\u001b[22m\u001b[34m\u001b[34m10555\u001b[34m\u001b[39m \u001b[1m\u001b[1mColumns: \u001b[1m\u001b[22m\u001b[34m\u001b[34m9\u001b[34m\u001b[39m\n",
      "\u001b[36m──\u001b[39m \u001b[1m\u001b[1mColumn specification\u001b[1m\u001b[22m \u001b[36m────────────────────────────────────────────────────────\u001b[39m\n",
      "\u001b[1mDelimiter:\u001b[22m \",\"\n",
      "\u001b[31mchr\u001b[39m  (7): class, category, indicator_name, series_name, sub_series_name, uni...\n",
      "\u001b[32mdbl\u001b[39m  (1): value\n",
      "\u001b[34mdate\u001b[39m (1): parameter\n",
      "\n",
      "\u001b[36mℹ\u001b[39m Use \u001b[30m\u001b[47m\u001b[30m\u001b[47m`spec()`\u001b[47m\u001b[30m\u001b[49m\u001b[39m to retrieve the full column specification for this data.\n",
      "\u001b[36mℹ\u001b[39m Specify the column types or set \u001b[30m\u001b[47m\u001b[30m\u001b[47m`show_col_types = FALSE`\u001b[47m\u001b[30m\u001b[49m\u001b[39m to quiet this message.\n"
     ]
    }
   ],
   "source": [
    "border_crossing <- \"https://raw.githubusercontent.com/andyholmes1210/DATA201-Project/main/covid_19_data_portal_Border%20crossings.csv\" %>%\n",
    "    read_csv()"
   ]
  },
  {
   "cell_type": "markdown",
   "id": "f6b0630a-6a10-4503-a9f6-01c836a62a9b",
   "metadata": {},
   "source": [
    "# Getting the jobseeking data setup"
   ]
  },
  {
   "cell_type": "markdown",
   "id": "66d7c929-ec95-45e6-b2a0-bf5cb1fefd8c",
   "metadata": {},
   "source": [
    "The jobseeking data also comes from the StatsNZ covid19 data portal. This also uses a file that has been re-uploaded to our github for ease of use.\n",
    "This section wrangles the full dataset into just the data relevant to jobseeking data"
   ]
  },
  {
   "cell_type": "code",
   "execution_count": 10,
   "id": "e5727a91-15ed-4e2e-af6d-a30ae5a88cd4",
   "metadata": {},
   "outputs": [
    {
     "name": "stderr",
     "output_type": "stream",
     "text": [
      "\u001b[1m\u001b[1mRows: \u001b[1m\u001b[22m\u001b[34m\u001b[34m297375\u001b[34m\u001b[39m \u001b[1m\u001b[1mColumns: \u001b[1m\u001b[22m\u001b[34m\u001b[34m9\u001b[34m\u001b[39m\n",
      "\u001b[36m──\u001b[39m \u001b[1m\u001b[1mColumn specification\u001b[1m\u001b[22m \u001b[36m────────────────────────────────────────────────────────\u001b[39m\n",
      "\u001b[1mDelimiter:\u001b[22m \",\"\n",
      "\u001b[31mchr\u001b[39m (8): class, category, indicator_name, series_name, sub_series_name, para...\n",
      "\u001b[32mdbl\u001b[39m (1): value\n",
      "\n",
      "\u001b[36mℹ\u001b[39m Use \u001b[30m\u001b[47m\u001b[30m\u001b[47m`spec()`\u001b[47m\u001b[30m\u001b[49m\u001b[39m to retrieve the full column specification for this data.\n",
      "\u001b[36mℹ\u001b[39m Specify the column types or set \u001b[30m\u001b[47m\u001b[30m\u001b[47m`show_col_types = FALSE`\u001b[47m\u001b[30m\u001b[49m\u001b[39m to quiet this message.\n"
     ]
    }
   ],
   "source": [
    "# Dowloading covid data into a dataframe\n",
    "covid_data <- 'https://raw.githubusercontent.com/andyholmes1210/DATA201-Project/main/covid_19_data_portal.csv' %>%\n",
    "   read_csv()"
   ]
  },
  {
   "cell_type": "code",
   "execution_count": 11,
   "id": "9eca2444-c167-4425-816b-39226122de1f",
   "metadata": {},
   "outputs": [],
   "source": [
    "#selecting pertinent columns from data set\n",
    "\n",
    "`%!in%` <- Negate(`%in%`)\n",
    "\n",
    "monthly_jobseeking_data <- covid_data %>% \n",
    "    select(class, category, indicator_name, \n",
    "           Region=series_name, Date=parameter, Jobseeker_benefit= value) %>% #renaming selected columns\n",
    "    filter(class == \"Income support\", category == 'Benefits', indicator_name == 'Jobseeker support by MSD region', Region %!in% c('Total'))"
   ]
  },
  {
   "cell_type": "code",
   "execution_count": 12,
   "id": "3fb37cec-ad4e-4759-b293-0803e636a9ea",
   "metadata": {},
   "outputs": [],
   "source": [
    "#Renaming of regions to coincide with the regional population data\n",
    "\n",
    "monthly_jobseeking_data[monthly_jobseeking_data == 'Auckland metro'] <- 'Auckland'\n",
    "monthly_jobseeking_data[monthly_jobseeking_data == 'Central'] <- 'MidCentral'\n",
    "monthly_jobseeking_data[monthly_jobseeking_data == 'Nelson'] <- 'Nelson Marlborough'\n",
    "monthly_jobseeking_data[monthly_jobseeking_data == 'Wellington'] <- 'Capital & Coast and Hutt Valley'\n",
    "monthly_jobseeking_data <- monthly_jobseeking_data %>%\n",
    "    filter(Region != 'Other region') #selecting for all regions that aren't \"Other region\""
   ]
  },
  {
   "cell_type": "markdown",
   "id": "d8e9348e-92c2-4245-a416-81413e3ceee9",
   "metadata": {},
   "source": [
    "# Getting the health trust data setup\n"
   ]
  },
  {
   "cell_type": "markdown",
   "id": "8c7ab7ce-bba9-43a0-869b-24fd5a112666",
   "metadata": {},
   "source": [
    "Combining quarterly datasets from statsnz to get the average trust in the NZ health system by Regions."
   ]
  },
  {
   "cell_type": "code",
   "execution_count": 13,
   "id": "e6e6c308-e8fc-4d62-98ae-ef4bfd3f80e9",
   "metadata": {},
   "outputs": [],
   "source": [
    "# function to wrangle average health trust data by region for different xlsx files so can be plotted against each other\n",
    "regions = c('Northland', \"Auckland\", \"Waikato\", \"Bay of Plenty\", \"Gisborne/Hawke's Bay\", 'Taranaki', 'Manawatu-Whanganui', 'Wellington', \n",
    "            'Nelson/Tasman/Marlborough/West Coast', 'Nelson/Tasman/ Marlborough/West Coast', 'Canterbury', 'Otago', 'Southland')\n",
    "\n",
    "extract_trust <- function(wellbeing_period){\n",
    "    \n",
    "    #read in wellbeing xlsx, 5th sheet(Regions), skipping first 5 rows due to NA values\n",
    "    wellbeing_df <- read_xlsx(wellbeing_period, sheet=5, skip=5) \n",
    "    \n",
    "    #selecting columns for regions and their data only, checking that column names are in provided region set\n",
    "    regionalwb_df <- wellbeing_df %>% select_if(colnames(wellbeing_df) %in% regions) \n",
    "    \n",
    "    #finding row index num for row containing data on average trust (mean row is 5 rows 'lower' than the title row)\n",
    "    health_trust_row_num <- which(wellbeing_df %>% select(1) == 'Trust held for health system') + 5\n",
    "    \n",
    "    #dataframe of just ave rating row, using found row number\n",
    "    ave_trust_df <- regionalwb_df[health_trust_row_num,] \n",
    "    \n",
    "    #transforming into tidy data with Region col title and regions values in col\n",
    "    ave_trust_df <- ave_trust_df %>% gather('Regions', Average_rating, 1:12) \n",
    "    \n",
    "    #changing col data type from chr to dbl for plotting functionality\n",
    "    ave_trust_df <- ave_trust_df %>% mutate(Average_rating = as.double(Average_rating)) \n",
    "    \n",
    "    return(ave_trust_df)\n",
    "}"
   ]
  },
  {
   "cell_type": "code",
   "execution_count": 14,
   "id": "231169dd-573b-4d9d-9a80-a21294556e0b",
   "metadata": {},
   "outputs": [],
   "source": [
    "download.file(url='https://raw.githubusercontent.com/andyholmes1210/DATA201-Project/main/wellbeing-statistics-March-2021-quarter.xlsx',\n",
    "                destfile='March2021.xlsx', mode = 'wb')\n",
    "\n",
    "download.file(url='https://raw.githubusercontent.com/andyholmes1210/DATA201-Project/main/wellbeing-statistics-december-2020-quarter.xlsx',\n",
    "                destfile='December2020.xlsx', mode = 'wb')\n",
    "\n",
    "download.file(url='https://raw.githubusercontent.com/andyholmes1210/DATA201-Project/main/wellbeing-statistics-september-2020-quarter.xlsx',\n",
    "                destfile='September2020.xlsx', mode = 'wb')\n",
    "\n",
    "download.file(url='https://raw.githubusercontent.com/andyholmes1210/DATA201-Project/main/wellbeing-statistics-june-2020-quarter.xlsx',\n",
    "                destfile='June2020.xlsx', mode = 'wb')"
   ]
  },
  {
   "cell_type": "code",
   "execution_count": 15,
   "id": "4c7ee047-7d7a-4740-9210-048d87f2fc45",
   "metadata": {},
   "outputs": [],
   "source": [
    "suppressMessages(march21_trust <- extract_trust('March2021.xlsx'))\n",
    "suppressMessages(dec20_trust <- extract_trust('December2020.xlsx'))\n",
    "suppressMessages(sept20_trust <- extract_trust('September2020.xlsx'))\n",
    "suppressMessages(june20_trust <- extract_trust('June2020.xlsx')) #hiding output of default col names"
   ]
  },
  {
   "cell_type": "code",
   "execution_count": 16,
   "id": "093658dd-5fa4-4b64-98f9-53c152b211a6",
   "metadata": {},
   "outputs": [],
   "source": [
    "#fixing rouge row value in Region in Sept 2020 df\n",
    "sept20_trust[sept20_trust =='Nelson/Tasman/ Marlborough/West Coast'] <- 'Nelson/Tasman/Marlborough/West Coast'\n",
    "\n",
    "\n",
    "#function to add col of dates for each quarter tibble\n",
    "add_date_col <- function(trust_quarter, n, value){\n",
    "    date <- rep(value, n)\n",
    "    trust_quarter <- trust_quarter %>% \n",
    "        add_column(date)\n",
    "    return(trust_quarter)\n",
    "}"
   ]
  },
  {
   "cell_type": "code",
   "execution_count": null,
   "id": "c8a3f39a-f616-4ead-84eb-5ac51bef78b2",
   "metadata": {},
   "outputs": [],
   "source": [
    "#giving each df a date col\n",
    "march21_trust <- march21_trust %>% add_date_col(n=nrow(march21_trust), value='March 2021')\n",
    "dec20_trust <- dec20_trust %>% add_date_col(n=nrow(dec20_trust), value='Dec 2020')\n",
    "sept20_trust <- sept20_trust %>% add_date_col(n=nrow(sept20_trust), value='Sept 2020')\n",
    "june20_trust <- june20_trust %>% add_date_col(n=nrow(june20_trust), value='June 2020')\n",
    "\n",
    "#binding all the df's into one\n",
    "trust_df <- bind_rows(june20_trust, sept20_trust, dec20_trust, march21_trust)"
   ]
  },
  {
   "cell_type": "code",
   "execution_count": 26,
   "id": "ebeb9ed6-16ff-403a-bd40-b40219f22447",
   "metadata": {},
   "outputs": [],
   "source": [
    "write.csv(trust_df, 'trust_data.csv', \n",
    "             row.names = FALSE)"
   ]
  },
  {
   "cell_type": "markdown",
   "id": "7a8aad28-4bd3-4e3e-a121-a4ad848f4e16",
   "metadata": {},
   "source": [
    "There are now  6 different dataframes setup with all of the data that will be used for this project."
   ]
  },
  {
   "cell_type": "markdown",
   "id": "ec4f90bb-f0f4-4590-8ee7-1f9f77ad047c",
   "metadata": {},
   "source": [
    "# Wrangling the data into forms useable for joins and plotting\n",
    "\n",
    "This sections focuses on getting the above 6 dataframes wrangled so that they can be joined and the resulting data exported for plotting."
   ]
  },
  {
   "cell_type": "markdown",
   "id": "ebc0b159-6dc3-4e8e-9832-9a2d9e8a097b",
   "metadata": {},
   "source": [
    "# Wrangling the vaccination data to align with the population data"
   ]
  },
  {
   "cell_type": "code",
   "execution_count": 18,
   "id": "698c1f50-a1a1-4c36-90f5-477a91141551",
   "metadata": {},
   "outputs": [],
   "source": [
    "# This cell mutates the vaccination data into a form that joins with the population data nicely and correctly (I believe)\n",
    "\n",
    "vaccination_data <- vaccination_data_raw %>%\n",
    "    select(\"Week ending\", \"Group\", 'DHB of service', 'Dose number', '# doses administered') # Taking only the desired info\n",
    "\n",
    "new_col_names = c('Week', 'Group', 'Region', 'Dose', 'Volume') # Renaming the columns for ease of use and clarity\n",
    "colnames(vaccination_data) <- new_col_names\n",
    "\n",
    "vaccination_data <- vaccination_data %>% \n",
    "    filter(Dose == 1) %>%  # Taking data on only the first dose numbers\n",
    "    mutate(Region = ifelse(Region == 'Auckland Metro', 'Auckland', Region)) %>% # Renaming 'Auckland Metro' to 'Auckland'\n",
    "    filter(Region != 'Other Sites') # Removing the 'Other' data \n",
    "\n",
    "# Function to fix the Hawke's Bay name\n",
    "fix_Hawkes <- function(Region) {\n",
    "    result <- ifelse(grepl('Hawk', Region, fixed=TRUE), 'Hawke\\'s Bay', Region)\n",
    "    return(result)\n",
    "}\n",
    "# Fixing the hawkes bay names\n",
    "vaccination_data <- vaccination_data %>% \n",
    "    mutate(Region = map(Region, fix_Hawkes)) %>%\n",
    "    mutate(Region = as.character(Region))"
   ]
  },
  {
   "cell_type": "code",
   "execution_count": 19,
   "id": "24a80297-4902-45ec-a0ad-8373d9f88240",
   "metadata": {},
   "outputs": [],
   "source": [
    "# This cell simply joins the wrangled vaccination data with the population data \n",
    "vaccination_population_data <- vaccination_data %>%\n",
    "    left_join(population_data, by = 'Region')"
   ]
  },
  {
   "cell_type": "code",
   "execution_count": 20,
   "id": "7b8b95a5-444e-4746-bd78-52bb0cd75fc1",
   "metadata": {},
   "outputs": [],
   "source": [
    "# Outputting the resulting dataframe to a csv, for use in later plotting\n",
    "write.csv(vaccination_population_data, file = \"vaccination_population_data.csv\",\n",
    "          row.names = FALSE)"
   ]
  },
  {
   "cell_type": "markdown",
   "id": "2ceda658-bf45-4b9c-a985-97f5a71df71d",
   "metadata": {},
   "source": [
    "# Wrangling the vaccination and case data so that they align on dates (weekly)"
   ]
  },
  {
   "cell_type": "code",
   "execution_count": 21,
   "id": "d0adba61-1a65-44bb-ac71-72ba0ff656e0",
   "metadata": {},
   "outputs": [
    {
     "name": "stderr",
     "output_type": "stream",
     "text": [
      "`summarise()` has grouped output by 'Week'. You can override using the `.groups` argument.\n"
     ]
    }
   ],
   "source": [
    "# This cell sets up the vaccination data to be one observation per week per region\n",
    "vaccination_weekly <- vaccination_data %>%\n",
    "    select(Week, Region, Volume) %>%\n",
    "    group_by(Week, Region) %>%\n",
    "    summarise(Volume = sum(Volume))"
   ]
  },
  {
   "cell_type": "code",
   "execution_count": 22,
   "id": "79608e2a-af4e-486f-8fb5-28e82ae430a9",
   "metadata": {},
   "outputs": [],
   "source": [
    "# This is the case data modified to be weekly cases instead of daily cases\n",
    "modified_case_data <- case_data %>% \n",
    "    filter(Date_reported >= vaccination_data$Week[1], Date_reported <= vaccination_data$Week[length(vaccination_data$Week)]) %>% # Only for weeks that line up with vaccinations\n",
    "    mutate(week = cut.Date(Date_reported, breaks = \"1 week\", labels = FALSE)) %>%  # Numbering by week\n",
    "    arrange(Date_reported) %>%\n",
    "    group_by(week) %>% # Grouping by week number\n",
    "    summarise(WeeklyCases = sum(New_cases), Week = max(Date_reported)) %>%  # Summarising weekly cases\n",
    "    select(Week, WeeklyCases) # Taking only the nessacery values\n",
    "\n",
    "# Joining the case data with the vaccination data to get weekly case and vaccine numbers\n",
    "vaccination_case_data <- modified_case_data %>%\n",
    "    inner_join(vaccination_weekly, by = 'Week') %>% \n",
    "    group_by(Week) %>%\n",
    "    summarise(WeeklyCases = sum(WeeklyCases), Volume = sum(Volume)) %>%\n",
    "    mutate(Volume = Volume/1000)"
   ]
  },
  {
   "cell_type": "code",
   "execution_count": 23,
   "id": "e7019704-f335-4f03-afd0-745bd71885dc",
   "metadata": {},
   "outputs": [],
   "source": [
    "# Outputting the resulting dataframe to a csv, for use in later plotting\n",
    "write.csv(vaccination_case_data, file = \"vaccination_case_data.csv\",\n",
    "          row.names = FALSE)"
   ]
  },
  {
   "cell_type": "markdown",
   "id": "e1a7c9fe-40c6-4677-800d-dd7e483b7603",
   "metadata": {},
   "source": [
    "# Wrangling the Jobseeker and population data into one dataframe"
   ]
  },
  {
   "cell_type": "code",
   "execution_count": 24,
   "id": "5ef1dbdd-24e3-4498-99d8-7728e9413507",
   "metadata": {},
   "outputs": [],
   "source": [
    "# merging the two sets on the regions\n",
    "jobseeker_population_df <- monthly_jobseeking_data %>% \n",
    "    filter(Date != '2022-09-03') %>% \n",
    "    inner_join(population_data, by='Region')\n",
    "\n",
    "# creating new column of the per job seeker benefit rate per capita\n",
    "jobseeker_population_df<- jobseeker_population_df %>% mutate(proportion = Jobseeker_benefit/Population)\n",
    "jobseeker_population_df <- jobseeker_population_df %>% mutate(Date = as.Date(Date))\n",
    "\n",
    "# Selecting only relevant columns for plotting\n",
    "jobseeker_population_df <- jobseeker_population_df %>%\n",
    "    select(Date, Region, Jobseeker_benefit, Population, proportion)"
   ]
  },
  {
   "cell_type": "code",
   "execution_count": 62,
   "id": "41958e65-d897-443d-b361-7af6ff5884c0",
   "metadata": {},
   "outputs": [],
   "source": [
    "write.csv(jobseeker_population_df, file = 'jobseeker_population_df.csv',\n",
    "              row.names = FALSE)"
   ]
  },
  {
   "cell_type": "markdown",
   "id": "4e2728b5-5197-47ea-969c-93d327467240",
   "metadata": {},
   "source": [
    "# Wrangling the Border Crossing Data"
   ]
  },
  {
   "cell_type": "markdown",
   "id": "24424540-bf2a-4f23-a38f-aaa0d558794d",
   "metadata": {},
   "source": [
    "This section will focus on wrangling the Border crossing dataset for joining with the covid case data"
   ]
  },
  {
   "cell_type": "code",
   "execution_count": 52,
   "id": "4ccd9008-85ee-4cba-83f5-5a039e8097ca",
   "metadata": {},
   "outputs": [],
   "source": [
    "#filtering dates for covid cases\n",
    "#to be able to use inner_join with border_crossing later\n",
    "covid_case_new_zealand <- case_data %>%\n",
    "    filter(Date_reported < \"2021-10-12\") %>%\n",
    "    rename(Dates = 'Date_reported')"
   ]
  },
  {
   "cell_type": "code",
   "execution_count": 54,
   "id": "acf26b64-9372-45bb-9c6e-54213206a73f",
   "metadata": {},
   "outputs": [],
   "source": [
    "#removing unwanted columns\n",
    "border_region <- select(border_crossing, -category, -indicator_name, -class, -units, -date_last_updated, -sub_series_name)\n",
    "\n",
    "#rename column titles\n",
    "border_region <- border_region %>% rename(\n",
    "    City = series_name,\n",
    "    Dates = parameter,\n",
    "    Border_crossed = value)\n",
    "\n",
    "#Getting total border crossing for each day 2020-2021\n",
    "border_region_new <- border_region %>%\n",
    "    filter(Dates > \"2020-01-02\") %>%\n",
    "    group_by(Dates) %>%\n",
    "    summarise(Total_border_crossed = sum(Border_crossed))"
   ]
  },
  {
   "cell_type": "code",
   "execution_count": 56,
   "id": "2f23fdf1-7343-4261-aa39-da7f33124af6",
   "metadata": {},
   "outputs": [],
   "source": [
    "#Joining bordercrossing region with daily covid cases\n",
    "bordercrossing_covidcase <- border_region_new %>%\n",
    "    inner_join(covid_case_new_zealand, by = \"Dates\")\n",
    "\n",
    "#changing any NA values to 0\n",
    "bordercrossing_covidcase[is.na(bordercrossing_covidcase)] <- 0\n"
   ]
  },
  {
   "cell_type": "code",
   "execution_count": 67,
   "id": "05894738-349f-46e2-9bb6-3dc7f4b02d86",
   "metadata": {},
   "outputs": [],
   "source": [
    "write_csv(bordercrossing_covidcase, file = 'bordercrossing_covid.csv')"
   ]
  }
 ],
 "metadata": {
  "kernelspec": {
   "display_name": "R",
   "language": "R",
   "name": "ir"
  },
  "language_info": {
   "codemirror_mode": "r",
   "file_extension": ".r",
   "mimetype": "text/x-r-source",
   "name": "R",
   "pygments_lexer": "r",
   "version": "4.1.0"
  }
 },
 "nbformat": 4,
 "nbformat_minor": 5
}
